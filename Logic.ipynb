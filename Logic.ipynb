{
 "cells": [
  {
   "cell_type": "markdown",
   "metadata": {},
   "source": [
    "# Import the libraries\n",
    "\n"
   ]
  },
  {
   "cell_type": "code",
   "execution_count": 1,
   "metadata": {},
   "outputs": [],
   "source": [
    "import requests\n",
    "from bs4 import BeautifulSoup"
   ]
  },
  {
   "cell_type": "markdown",
   "metadata": {},
   "source": [
    "# Now put the request\n"
   ]
  },
  {
   "cell_type": "code",
   "execution_count": 2,
   "metadata": {},
   "outputs": [],
   "source": [
    "#page = requests.get(\"https://www.moneycontrol.com/india/stockpricequote/miscellaneous/afenterprises/AFE01\")"
   ]
  },
  {
   "cell_type": "code",
   "execution_count": 3,
   "metadata": {},
   "outputs": [],
   "source": [
    "#print(page.content)"
   ]
  },
  {
   "cell_type": "code",
   "execution_count": 4,
   "metadata": {},
   "outputs": [],
   "source": [
    "links =list()"
   ]
  },
  {
   "cell_type": "code",
   "execution_count": 5,
   "metadata": {},
   "outputs": [
    {
     "name": "stdout",
     "output_type": "stream",
     "text": [
      "['https://www.moneycontrol.com/india/stockpricequote/A', 'https://www.moneycontrol.com/india/stockpricequote/B', 'https://www.moneycontrol.com/india/stockpricequote/C', 'https://www.moneycontrol.com/india/stockpricequote/D', 'https://www.moneycontrol.com/india/stockpricequote/E', 'https://www.moneycontrol.com/india/stockpricequote/F', 'https://www.moneycontrol.com/india/stockpricequote/G', 'https://www.moneycontrol.com/india/stockpricequote/H', 'https://www.moneycontrol.com/india/stockpricequote/I', 'https://www.moneycontrol.com/india/stockpricequote/J', 'https://www.moneycontrol.com/india/stockpricequote/K', 'https://www.moneycontrol.com/india/stockpricequote/L', 'https://www.moneycontrol.com/india/stockpricequote/M', 'https://www.moneycontrol.com/india/stockpricequote/N', 'https://www.moneycontrol.com/india/stockpricequote/O', 'https://www.moneycontrol.com/india/stockpricequote/P', 'https://www.moneycontrol.com/india/stockpricequote/Q', 'https://www.moneycontrol.com/india/stockpricequote/R', 'https://www.moneycontrol.com/india/stockpricequote/S', 'https://www.moneycontrol.com/india/stockpricequote/T', 'https://www.moneycontrol.com/india/stockpricequote/U', 'https://www.moneycontrol.com/india/stockpricequote/V', 'https://www.moneycontrol.com/india/stockpricequote/W', 'https://www.moneycontrol.com/india/stockpricequote/X', 'https://www.moneycontrol.com/india/stockpricequote/Y', 'https://www.moneycontrol.com/india/stockpricequote/Z', 'https://www.moneycontrol.com/india/stockpricequote/others']\n"
     ]
    }
   ],
   "source": [
    "i = 0\n",
    "ch = 'A'\n",
    "\n",
    "for i in range(26):\n",
    "    temp = \"https://www.moneycontrol.com/india/stockpricequote/\"\n",
    "    s=str(ch)\n",
    "    temp = temp + s;\n",
    "    ch = chr(ord(ch) + 1)\n",
    "    links.append(temp)\n",
    "    \n",
    "temp = \"https://www.moneycontrol.com/india/stockpricequote/\"\n",
    "temp =temp + \"others\"\n",
    "links.append(temp)\n",
    "print(links)"
   ]
  },
  {
   "cell_type": "code",
   "execution_count": 6,
   "metadata": {},
   "outputs": [],
   "source": [
    "all_stocks = list()\n",
    "all_stocks_links = list()\n",
    "all_stocks_name = list()\n",
    "total = 0"
   ]
  },
  {
   "cell_type": "markdown",
   "metadata": {},
   "source": [
    "# one link for testing"
   ]
  },
  {
   "cell_type": "code",
   "execution_count": 7,
   "metadata": {},
   "outputs": [],
   "source": [
    "#test_link ='https://www.moneycontrol.com/india/stockpricequote/A'\n",
    "#page = requests.get(test_link)\n",
    "#soup = BeautifulSoup(page.content, 'html.parser')\n",
    "#temp=soup.find_all('a', class_='bl_12')\n",
    "#print(len(temp))\n",
    "#for tags in temp:\n",
    "#    x=tags.get('href')\n",
    "#    y=tags.get_text()\n",
    "    #print(type(x))\n",
    "    #print(type(y))\n",
    "\n",
    "links=[\"https://www.moneycontrol.com/stocks/marketstats/indcontrib.php?optex=NSE&opttopic=indcontrib&index=28\"]"
   ]
  },
  {
   "cell_type": "code",
   "execution_count": 8,
   "metadata": {},
   "outputs": [
    {
     "name": "stdout",
     "output_type": "stream",
     "text": [
      "1\n",
      "2\n",
      "3\n",
      "4\n",
      "5\n",
      "6\n",
      "7\n",
      "8\n",
      "9\n",
      "10\n",
      "11\n",
      "12\n",
      "13\n",
      "14\n",
      "15\n",
      "16\n",
      "17\n",
      "18\n",
      "19\n",
      "20\n",
      "21\n",
      "22\n",
      "23\n",
      "24\n",
      "25\n",
      "26\n",
      "27\n",
      "28\n",
      "29\n",
      "30\n",
      "31\n",
      "32\n",
      "33\n",
      "34\n",
      "35\n",
      "36\n",
      "37\n",
      "38\n",
      "39\n",
      "40\n",
      "41\n",
      "42\n",
      "43\n",
      "44\n",
      "45\n",
      "46\n",
      "47\n",
      "48\n",
      "49\n",
      "50\n",
      "51\n",
      "52\n",
      "53\n",
      "54\n",
      "55\n",
      "56\n",
      "57\n",
      "58\n",
      "59\n",
      "60\n",
      "61\n",
      "62\n",
      "63\n",
      "64\n",
      "65\n",
      "66\n",
      "67\n",
      "68\n",
      "69\n",
      "70\n",
      "71\n",
      "72\n",
      "73\n",
      "74\n",
      "75\n",
      "76\n",
      "77\n",
      "78\n",
      "79\n",
      "80\n",
      "81\n",
      "82\n",
      "83\n",
      "84\n",
      "85\n",
      "86\n",
      "87\n",
      "88\n",
      "89\n",
      "90\n",
      "91\n",
      "92\n",
      "93\n",
      "94\n",
      "95\n",
      "96\n",
      "97\n",
      "98\n",
      "99\n",
      "100\n",
      "101\n",
      "102\n"
     ]
    }
   ],
   "source": [
    "for link in links:\n",
    "    page = requests.get(link)\n",
    "    soup = BeautifulSoup(page.content, 'html.parser')\n",
    "    temp=soup.find_all('a', class_='bl_12')\n",
    "    i=0\n",
    "    total=0\n",
    "#    print(len(temp))\n",
    "    for tags in temp:\n",
    "        i=i+1\n",
    "        if i%2!=0:\n",
    "            x=tags.get('href')\n",
    "            y=tags.get_text()\n",
    "            total=total+1\n",
    "            print(total)\n",
    "            all_stocks_links.append(x)\n",
    "            all_stocks_name.append(y)"
   ]
  },
  {
   "cell_type": "code",
   "execution_count": 14,
   "metadata": {},
   "outputs": [
    {
     "name": "stdout",
     "output_type": "stream",
     "text": [
      "['/india/stockpricequote/financeinvestments/hdfcamc/HAM02', '/india/stockpricequote/computerssoftware/hcltech/HCL02', '/india/stockpricequote/foodprocessing/nestle/NI', '/india/stockpricequote/foodprocessing/britannia/BI', '/india/stockpricequote/computerssoftware/tcs/TCS', '/india/stockpricequote/metalsnonferrous/hindzinc/HZ']\n"
     ]
    }
   ],
   "source": [
    "print(all_stocks_links[96:])"
   ]
  },
  {
   "cell_type": "markdown",
   "metadata": {},
   "source": [
    "# testing for some stocks\n"
   ]
  },
  {
   "cell_type": "code",
   "execution_count": 10,
   "metadata": {},
   "outputs": [
    {
     "name": "stdout",
     "output_type": "stream",
     "text": [
      "7902002\n",
      "1997.3\n",
      "Reliance Industries Ltd.\n"
     ]
    }
   ],
   "source": [
    "test_link ='https://www.moneycontrol.com/india/stockpricequote/refineries/relianceindustries/RI'\n",
    "page = requests.get(test_link)\n",
    "soup = BeautifulSoup(page.content, 'html.parser')\n",
    "temp1=soup.find_all('div', id='nse_vol')\n",
    "if  len(temp1)!=0:\n",
    "    #temp2=soup.find_all('div', id='bse_vol')\n",
    "    #print(temp1)\n",
    "    #print(temp2)\n",
    "    #temp1=temp1+temp2\n",
    "    total_vol =0\n",
    "    for l in temp1:\n",
    "        y=l.get_text()\n",
    "        #print(type(y))\n",
    "        y = y.replace(',', '')\n",
    "        y1=int(y)\n",
    "        total_vol=total_vol+y1\n",
    "    print(total_vol)\n",
    "    temp2=soup.find_all('div', id='nsecp')\n",
    "    price=temp2[0].get_text()\n",
    "    price = price.replace(',', '')\n",
    "    price=float(price)\n",
    "    print(price)\n",
    "    temp2=soup.find_all('div', id='stockName')\n",
    "    #print(temp2)\n",
    "    name=temp2[0]#.children[0].get_text()\n",
    "    name=list(name.children)[1]\n",
    "    name = name.get_text()\n",
    "    print(name)\n"
   ]
  },
  {
   "cell_type": "markdown",
   "metadata": {},
   "source": [
    "# final for all stocks"
   ]
  },
  {
   "cell_type": "code",
   "execution_count": 11,
   "metadata": {},
   "outputs": [],
   "source": [
    "nse_stocks_name =list()\n",
    "nse_stocks_vol = list()\n",
    "nse_stocks_price = list()\n",
    "nse_stocks_link =list()"
   ]
  },
  {
   "cell_type": "code",
   "execution_count": 15,
   "metadata": {
    "scrolled": false
   },
   "outputs": [
    {
     "name": "stdout",
     "output_type": "stream",
     "text": [
      "Bajaj Finance Ltd. 5280.9  8576454  /india/stockpricequote/financeleasinghirepurchase/bajajfinance/BAF  0\n",
      "HDFC Bank Ltd. 1476.8  12051970  /india/stockpricequote/banksprivatesector/hdfcbank/HDF01  1\n",
      "ICICI Bank Ltd. 621.35  33292864  /india/stockpricequote/banksprivatesector/icicibank/ICI02  2\n",
      "Kotak Mahindra Bank Ltd. 1811.45  4174599  /india/stockpricequote/banksprivatesector/kotakmahindra/KMB  3\n",
      "Housing Development Finance Corporation Ltd. 2577.0  3407461  /india/stockpricequote/financehousing/hdfc/HDF  4\n",
      "State Bank of India 363.4  56696255  /india/stockpricequote/bankspublicsector/sbi/SBI  5\n",
      "Avenue Supermarts Ltd. 2936.8  542978  /india/stockpricequote/retail/avenuesupermar/AS19  6\n",
      "Bajaj Finserv Ltd. 10489.3  1113881  /india/stockpricequote/financeinvestments/bajajfinserv/BF04  7\n",
      "Hindustan Unilever Ltd. 2406.55  1951215  /india/stockpricequote/personalcare/hul/HU  8\n",
      "Reliance Industries Ltd. 1997.3  7902002  /india/stockpricequote/refineries/reliance/RI  9\n",
      "Bharti Airtel Ltd. 544.3  11970652  /india/stockpricequote/telecommunicationsservice/bhartiairtel/BA08  10\n",
      "Asian Paints Ltd. 2614.55  1065561  /india/stockpricequote/paintsvarnishes/asianpaints/AP31  11\n",
      "IndusInd Bank Ltd. 926.9  9935828  /india/stockpricequote/banksprivatesector/indusindbank/IIB  12\n",
      "Eicher Motors Ltd. 2521.2  1681975  /india/stockpricequote/autolcvshcvs/eichermotors/EM  13\n",
      "Infosys Ltd. 1356.0  4879234  /india/stockpricequote/computerssoftware/infosys/IT  14\n",
      "Bajaj Auto Ltd. 3889.75  1252958  /india/stockpricequote/auto23wheelers/bajajauto/BA10  15\n",
      "Axis Bank Ltd. 708.15  54060587  /india/stockpricequote/banksprivatesector/axisbank/AB16  16\n",
      "Pidilite Industries Ltd. 1882.85  871430  /india/stockpricequote/chemicals/pidiliteind/PI11  17\n",
      "Wipro Ltd. 489.3  9615534  /india/stockpricequote/computerssoftware/wipro/W  18\n",
      "Power Grid Corporation of India Ltd. 220.9  9215766  /india/stockpricequote/powergenerationdistribution/powergridcorp/PGC  19\n",
      "Shree Cements Ltd. 28687.55  33961  /india/stockpricequote/cementmajor/shreecements/SC12  20\n",
      "Shriram Transport Finance Corporation Ltd. 1404.8  3411963  /india/stockpricequote/financeleasinghirepurchase/shriramtrans/STF  21\n",
      "Motherson Sumi Systems Ltd. 221.65  18941770  /india/stockpricequote/autoancillaries/mothersonsumi/MSS01  22\n",
      "Bandhan Bank Ltd. 328.5  10820190  /india/stockpricequote/banksprivatesector/bandhanbank/BB09  23\n",
      "NTPC Ltd. 103.6  15160578  /india/stockpricequote/powergenerationdistribution/ntpc/NTP  24\n",
      "Tata Motors Ltd. 305.9  44668126  /india/stockpricequote/autolcvshcvs/tatamotors/TM03  25\n",
      "Adani Transmission Ltd. 1056.55  942307  /india/stockpricequote/powertransmissionequipment/adanitrans/AT22  26\n",
      "Oracle Financial Services Software Ltd. 3553.25  221627  /india/stockpricequote/computerssoftware/oraclefinserv/OFS01  27\n",
      "INDUS TOWERS Ltd. 255.8  1933776  /india/stockpricequote/telecommunicationsequipment/industowers/BI14  28\n",
      "Bank Of Baroda 67.75  47954929  /india/stockpricequote/bankspublicsector/bankbaroda/BOB  29\n",
      "IDBI Bank Ltd. 35.7  16472455  /india/stockpricequote/bankprivate/idbibank/IDB05  30\n",
      "Titan Company Ltd. 1508.85  1037771  /india/stockpricequote/miscellaneous/titancompany/TI01  31\n",
      "United Breweries Ltd. 1206.65  1170393  /india/stockpricequote/breweriesdistilleries/unitedbrewerie/UB02  32\n",
      "Piramal Enterprises Ltd. 1708.35  1118641  /india/stockpricequote/pharmaceuticals/piramalenter/PH05  33\n",
      "United Spirits Ltd. 536.15  1844620  /india/stockpricequote/breweriesdistilleries/unitedspirits/US  34\n",
      "Sun Pharmaceutical Industries Ltd. 643.4  6069155  /india/stockpricequote/pharmaceuticals/sunpharma/SPI  35\n",
      "Godrej Consumer Products Ltd. 711.8  606306  /india/stockpricequote/personalcare/godrejconsumer/GCP  36\n",
      "UltraTech Cement Ltd. 6360.8  414435  /india/stockpricequote/cementmajor/ultratechcement/UTC01  37\n",
      "Siemens Ltd. 1870.45  293233  /india/stockpricequote/infrastructuregeneral/siemens/S  38\n",
      "Info Edge India Ltd. 5020.85  905515  /india/stockpricequote/miscellaneous/infoedge/IEI01  39\n",
      "Oil and Natural Gas Corporation Ltd. 103.9  6887787  /india/stockpricequote/oildrillingandexploration/ongc/ONG  40\n",
      "UPL Ltd. 608.05  4983043  /india/stockpricequote/chemicals/upl/UP04  41\n",
      "Bosch Ltd. 13833.0  27858  /india/stockpricequote/autoancillaries/bosch/B05  42\n",
      "GAIL India Ltd. 133.35  6883321  /india/stockpricequote/oildrillingandexploration/gail/GAI  43\n",
      "Tech Mahindra Ltd. 977.4  2968625  /india/stockpricequote/computerssoftware/techmahindra/TM4  44\n",
      "Punjab National Bank 35.65  94894461  /india/stockpricequote/bankspublicsector/pnb/PNB05  45\n",
      "Bajaj Holdings & Investment Ltd. 3457.9  30801  /india/stockpricequote/financeinvestments/bajajholdings/BHI  46\n",
      "Grasim Industries Ltd. 1341.15  1283746  /india/stockpricequote/diversified/grasim/GI01  47\n",
      "Coal India Ltd. 128.5  6206074  /india/stockpricequote/miningminerals/coalindia/CI11  48\n",
      "Marico Ltd. 411.4  1013196  /india/stockpricequote/personalcare/marico/M13  49\n",
      "Indian Oil Corporation Ltd. 89.4  6336704  /india/stockpricequote/refineries/ioc/IOC  50\n",
      "Berger Paints India Ltd. 717.8  720651  /india/stockpricequote/paintsvarnishes/bergerpaints/BPI02  51\n",
      "Dabur India Ltd. 541.25  2614846  /india/stockpricequote/personalcare/daburindia/DI  52\n",
      "Mahindra and Mahindra Ltd. 782.1  5214319  /india/stockpricequote/autocarsjeeps/mm/MM  53\n",
      "Ambuja Cements Ltd. 308.85  4312684  /india/stockpricequote/cementmajor/ambujacements/AC18  54\n",
      "Hero Motocorp Ltd. 2926.25  1389833  /india/stockpricequote/auto23wheelers/heromotocorp/HHM  55\n",
      "NMDC Ltd. 147.55  7948529  /india/stockpricequote/miningminerals/nmdc/NMD02  56\n",
      "Interglobe Aviation Ltd. 1647.55  553525  /india/stockpricequote/transportlogistics/interglobeavi/IA04  57\n",
      "ACC Ltd. 1872.15  879407  /india/stockpricequote/cementmajor/acc/ACC06  58\n",
      "Vedanta Ltd. 243.9  13518520  /india/stockpricequote/miningminerals/vedanta/SG  59\n",
      "SBI Life Insurance Company Ltd. 930.4  1904945  /india/stockpricequote/diversified/sbilifeinsura/SLI03  60\n",
      "Maruti Suzuki India Ltd. 6573.8  1406270  /india/stockpricequote/autocarsjeeps/marutisuzuki/MS24  61\n",
      "NHPC Ltd. 24.45  1714739  /india/stockpricequote/powergenerationdistribution/nhpc/N07  62\n",
      "ITC Ltd. 205.5  12708021  /india/stockpricequote/cigarettes/itc/ITC  63\n",
      "Zee Entertainment Enterprises Ltd. 189.1  8429439  /india/stockpricequote/mediaentertainment/zeeentertain/ZEE  64\n",
      "Indraprastha Gas Ltd. 510.65  842391  /india/stockpricequote/oildrillingandexploration/igl/IG04  65\n",
      "Muthoot Finance Ltd. 1177.85  710804  /india/stockpricequote/financeinvestments/muthootfinance/MF10  66\n",
      "Cadila Healthcare Ltd. 563.35  9739916  /india/stockpricequote/pharmaceuticals/cadilahealth/CHC  67\n",
      "Container Corporation of India Ltd. 563.3  945136  /india/stockpricequote/transportlogistics/containercorp/CCI  68\n",
      "Procter and Gamble Hygiene and Health Care Ltd. 13402.45  1376  /india/stockpricequote/personalcare/pg/PGH  69\n",
      "Abbott India Ltd. 15172.9  7306  /india/stockpricequote/pharmaceuticals/abbottindia/AI51  70\n",
      "General Insurance Corporation of India Ltd. 205.85  409162  /india/stockpricequote/diversified/generalinsuran/GIC12  71\n",
      "Colgate Palmolive (India) Ltd. 1490.6  474599  /india/stockpricequote/personalcare/colgate/CPI  72\n",
      "Power Finance Corporation Ltd. 107.95  4146451  /india/stockpricequote/financetermlendinginstitutions/powerfinance/PFC02  73\n",
      "Cipla Ltd. 910.2  7251009  /india/stockpricequote/pharmaceuticals/cipla/C  74\n",
      "Page Industries Ltd. 30034.3  35823  /india/stockpricequote/textilesreadymadeapparels/pageindustries/PI35  75\n",
      "Dr Reddys Laboratories Ltd. 5044.45  843953  /india/stockpricequote/pharmaceuticals/drreddyslabs/DRL  76\n",
      "Hindustan Petroleum Corporation Ltd. 231.35  5053936  /india/stockpricequote/refineries/hpcl/HPC  77\n",
      "Larsen & Toubro Infotech Ltd. 3890.85  297881  /india/stockpricequote/computerssoftware/ltinfotech/LI12  78\n",
      "Petronet LNG Ltd. 237.1  2714344  /india/stockpricequote/oildrillingandexploration/petronetlng/PLN  79\n",
      "Torrent Pharmaceuticals Ltd. 2502.3  157286  /india/stockpricequote/pharmaceuticals/torrentpharma/TP06  80\n",
      "Lupin Ltd. 1054.75  1483859  /india/stockpricequote/pharmaceuticals/lupin/L  81\n",
      "Havells India Ltd. 1019.85  844145  /india/stockpricequote/electricequipment/havellsindia/HI01  82\n",
      "Aurobindo Pharma Ltd. 963.0  1451281  /india/stockpricequote/pharmaceuticals/aurobindopharm/AP  83\n"
     ]
    },
    {
     "name": "stdout",
     "output_type": "stream",
     "text": [
      "Adani Ports and Special Economic Zone Ltd. 746.25  11156977  /india/stockpricequote/infrastructuregeneral/adaniports/MPS  84\n",
      "Bharat Petroleum Corporation Ltd. 417.5  9902533  /india/stockpricequote/refineries/bpcl/BPC  85\n",
      "Larsen & Toubro Ltd. 1375.9  3220346  /india/stockpricequote/infrastructuregeneral/larsen/LT  86\n",
      "ICICI Lombard General Insurance Company Ltd. 1424.9  273683  /india/stockpricequote/diversified/icicilombard/ILG  87\n",
      "DLF Ltd. 250.9  5698980  /india/stockpricequote/constructioncontractingrealestate/dlf/D04  88\n",
      "Divis Laboratories Ltd. 3882.6  911739  /india/stockpricequote/pharmaceuticals/divislabs/DL03  89\n",
      "Tata Steel Ltd. 971.4  20447968  /india/stockpricequote/steellarge/tatasteel/TIS  90\n",
      "JSW Steel Ltd. 662.65  15558949  /india/stockpricequote/steellarge/jswsteel/JSW01  91\n",
      "Hindalco Industries Ltd. 362.6  15197329  /india/stockpricequote/aluminium/hindalco/HI  92\n",
      "ICICI Prudential Life Insurance Company Ltd. 520.85  3512690  /india/stockpricequote/financegeneral/iciciprudentia/IPL01  93\n",
      "Biocon Ltd. 390.85  11363709  /india/stockpricequote/pharmaceuticals/biocon/BL03  94\n",
      "HDFC Life Insurance Company Ltd. 672.6  4011121  /india/stockpricequote/miscellaneous/hdfclife/HSL01  95\n",
      "HDFC Asset Management Company  Ltd. 2806.0  624328  /india/stockpricequote/financeinvestments/hdfcamc/HAM02  96\n",
      "HCL Technologies Ltd. 923.8  6845677  /india/stockpricequote/computerssoftware/hcltech/HCL02  97\n",
      "Nestle India Ltd. 16633.8  86876  /india/stockpricequote/foodprocessing/nestle/NI  98\n",
      "Britannia Industries Ltd. 3478.75  1498181  /india/stockpricequote/foodprocessing/britannia/BI  99\n",
      "Tata Consultancy Services Ltd. 3124.1  1639037  /india/stockpricequote/computerssoftware/tcs/TCS  100\n",
      "Hindustan Zinc Ltd. 308.2  5195162  /india/stockpricequote/metalsnonferrous/hindzinc/HZ  101\n"
     ]
    }
   ],
   "source": [
    "i=0\n",
    "for link in all_stocks_links:\n",
    "    test_link =\"https://www.moneycontrol.com\"+link\n",
    "    page = requests.get(test_link)\n",
    "    soup = BeautifulSoup(page.content, 'html.parser')\n",
    "    temp1=soup.find_all('div', id='nse_vol')\n",
    "    if  len(temp1)!=0:\n",
    "        #temp2=soup.find_all('div', id='bse_vol')\n",
    "        #print(temp1)\n",
    "        #print(temp2)\n",
    "        #temp1=temp1+temp2\n",
    "        total_vol =0\n",
    "        for l in temp1:\n",
    "            y=l.get_text()\n",
    "            #print(type(y))\n",
    "            y = y.replace(',', '')\n",
    "            y1=int(y)\n",
    "            total_vol=total_vol+y1\n",
    "        #print(total_vol)\n",
    "        nse_stocks_vol.append(total_vol)\n",
    "        temp2=soup.find_all('div', id='nsecp')\n",
    "        price=temp2[0].get_text()\n",
    "        price = price.replace(',', '')\n",
    "        price=float(price)\n",
    "        #print(price)\n",
    "        nse_stocks_price.append(price)\n",
    "        temp2=soup.find_all('div', id='stockName')\n",
    "        #print(temp2)\n",
    "        name=temp2[0]#.children[0].get_text()\n",
    "        name=list(name.children)[1]\n",
    "        name = name.get_text()\n",
    "        #print(name)\n",
    "        nse_stocks_name.append(name)\n",
    "        nse_stocks_link.append(link)\n",
    "        print(name+\" \"+str(price)+\"  \"+str(total_vol)+\"  \"+link+\"  \"+str(i))\n",
    "        i=i+1\n",
    "        #print(i)\n",
    "        \n",
    "\n",
    "\n",
    "    "
   ]
  },
  {
   "cell_type": "code",
   "execution_count": null,
   "metadata": {},
   "outputs": [],
   "source": []
  }
 ],
 "metadata": {
  "kernelspec": {
   "display_name": "Python 3",
   "language": "python",
   "name": "python3"
  },
  "language_info": {
   "codemirror_mode": {
    "name": "ipython",
    "version": 3
   },
   "file_extension": ".py",
   "mimetype": "text/x-python",
   "name": "python",
   "nbconvert_exporter": "python",
   "pygments_lexer": "ipython3",
   "version": "3.7.6"
  }
 },
 "nbformat": 4,
 "nbformat_minor": 4
}
